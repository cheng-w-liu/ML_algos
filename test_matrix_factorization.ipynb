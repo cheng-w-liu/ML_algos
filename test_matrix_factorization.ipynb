{
 "cells": [
  {
   "cell_type": "code",
   "execution_count": 1,
   "metadata": {
    "collapsed": true
   },
   "outputs": [],
   "source": [
    "import numpy as np\n",
    "from matrix_factorization import MatrixFactorization\n",
    "\n",
    "import matplotlib.pyplot as plt\n",
    "import matplotlib\n",
    "%matplotlib inline\n",
    "matplotlib.style.use('ggplot')"
   ]
  },
  {
   "cell_type": "code",
   "execution_count": 2,
   "metadata": {
    "collapsed": true
   },
   "outputs": [],
   "source": [
    "NAN = 0   # np.nan\n",
    "Y = np.array([\n",
    "    [  5,    3, NAN, 1],\n",
    "    [  4,  NAN, NAN, 1],\n",
    "    [  1,    1, NAN, 5],\n",
    "    [  1,  NAN, NAN, 4],\n",
    "    [NAN,    1,   5, 4],\n",
    "])\n"
   ]
  },
  {
   "cell_type": "code",
   "execution_count": 3,
   "metadata": {
    "collapsed": false
   },
   "outputs": [
    {
     "data": {
      "text/plain": [
       "array([[ 4.98469048,  3.00512039, -0.29626772,  1.02355934],\n",
       "       [ 3.99522307,  1.87994344,  0.34534978,  0.98169312],\n",
       "       [ 0.82139058,  1.36000908,  4.88501306,  4.76936726],\n",
       "       [ 1.04774074,  2.6394846 ,  2.43474248,  4.06565546],\n",
       "       [ 1.0642805 ,  0.77554245,  4.87660231,  4.22787695]])"
      ]
     },
     "execution_count": 3,
     "metadata": {},
     "output_type": "execute_result"
    }
   ],
   "source": [
    "mf = MatrixFactorization(K=2) \n",
    "costs = mf.fit(Y, num_iterations=250, alpha=0.1, beta=0.01)\n",
    "mf.predict(mf.parameters)\n"
   ]
  },
  {
   "cell_type": "code",
   "execution_count": 4,
   "metadata": {
    "collapsed": false
   },
   "outputs": [
    {
     "data": {
      "image/png": "[encoded data removed]",
      "text/plain": [
       "<matplotlib.figure.Figure at 0x10c123048>"
      ]
     },
     "metadata": {},
     "output_type": "display_data"
    }
   ],
   "source": [
    "plt.close('close')\n",
    "fig, ax = plt.subplots(1, figsize=(9, 5.5))\n",
    "ax.plot(costs)\n",
    "\n",
    "FONTSIZE = 22\n",
    "ax.set_xlabel('iteration / 10', fontsize=FONTSIZE, labelpad=15)\n",
    "ax.set_ylabel('Cost function', fontsize=FONTSIZE, labelpad=15)\n",
    "for tick in ax.xaxis.get_major_ticks():\n",
    "    tick.label.set_fontsize(FONTSIZE)\n",
    "    tick.label.set_rotation(0)\n",
    "for tick in ax.yaxis.get_major_ticks():\n",
    "    tick.label.set_fontsize(FONTSIZE)\n",
    "    tick.label.set_rotation(0)"
   ]
  },
  {
   "cell_type": "code",
   "execution_count": null,
   "metadata": {
    "collapsed": true
   },
   "outputs": [],
   "source": []
  }
 ],
 "metadata": {
  "kernelspec": {
   "display_name": "Python 3",
   "language": "python",
   "name": "python3"
  },
  "language_info": {
   "codemirror_mode": {
    "name": "ipython",
    "version": 3
   },
   "file_extension": ".py",
   "mimetype": "text/x-python",
   "name": "python",
   "nbconvert_exporter": "python",
   "pygments_lexer": "ipython3",
   "version": "3.6.3"
  }
 },
 "nbformat": 4,
 "nbformat_minor": 2
}
