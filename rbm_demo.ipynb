{
 "cells": [
  {
   "cell_type": "code",
   "execution_count": 217,
   "metadata": {},
   "outputs": [],
   "source": [
    "import numpy as np\n",
    "import pandas as pd\n",
    "from sklearn.neural_network import BernoulliRBM\n",
    "\n",
    "import matplotlib.pyplot as plt\n",
    "import matplotlib\n",
    "matplotlib.style.use('ggplot')\n",
    "%matplotlib inline"
   ]
  },
  {
   "cell_type": "code",
   "execution_count": 197,
   "metadata": {},
   "outputs": [],
   "source": [
    "class RBM(object):\n",
    "    \n",
    "    def __init__(self, num_hidden=5):\n",
    "        self.num_hidden = num_hidden        \n",
    "        \n",
    "    def initializeParameters(self, D, K):\n",
    "        \"\"\"\n",
    "        D: dimenion of the visible layer\n",
    "        K: dimension of the hidden layer\n",
    "        \"\"\"\n",
    "        \n",
    "        # W = np.random.randn(K, D) * 0.01\n",
    "        # the following initialization will have faster convergence\n",
    "        W = np.random.uniform(low=-0.1 * np.sqrt(6.0/(D+K)), \n",
    "                              high=0.1 * np.sqrt(6.0/(D+K)),\n",
    "                              size=(K, D))\n",
    "        hidden_bias = np.zeros((K, 1))\n",
    "        visible_bias = np.zeros((D, 1))\n",
    "        \n",
    "        parameters = {'W': W, 'b': hidden_bias, 'c': visible_bias}\n",
    "        \n",
    "        return parameters\n",
    "        \n",
    "    \n",
    "    def _sigmoid(self, Z):\n",
    "        return 1.0/(1.0+np.exp(-Z))\n",
    "    \n",
    "    def fit(self, X, learning_rate=0.1, n_iters=1000):\n",
    "        \"\"\"\n",
    "        X: shape (n_features, n_samples), each column corresponds to one training example\n",
    "        \n",
    "        \"\"\"\n",
    "    \n",
    "        D, m = X.shape[0], X.shape[1]\n",
    "        K = self.num_hidden\n",
    "        \n",
    "        parameters = self.initializeParameters(D, K)\n",
    "        \n",
    "        costs = []\n",
    "        A0 = X\n",
    "        alpha = learning_rate / float(m)\n",
    "        for i in range(n_iters):\n",
    "            W = parameters['W']\n",
    "            hidden_bias = parameters['b']            \n",
    "            visible_bias = parameters['c']\n",
    "            \n",
    "            # positive-CD phase, propagate to hidden layer        \n",
    "            Z1 = hidden_bias + np.dot(W, A0)\n",
    "            positive_hidden_probs = self._sigmoid(Z1)\n",
    "            A1 = (positive_hidden_probs > 0.5).astype(np.float32)\n",
    "            assert positive_hidden_probs.shape == (K, m)\n",
    "            \n",
    "            # propagate back to the visible layer\n",
    "            Z2 = visible_bias + np.dot(W.T, A1)\n",
    "            negative_visible_probs = self._sigmoid(Z2)\n",
    "            A2 = (negative_visible_probs > 0.5).astype(np.float32)\n",
    "            assert negative_visible_probs.shape == (D, m)\n",
    "        \n",
    "            # negative-CD phase, propagate again to the hidden layer\n",
    "            # Z3 = hidden_bias + np.dot(W, A2) # use solft probabilities instead of actual states\n",
    "            Z3 = hidden_bias + np.dot(W, negative_visible_probs)\n",
    "            negative_hidden_probs = self._sigmoid(Z3)\n",
    "            A3 = (negative_hidden_probs > 0.5).astype(np.float32)\n",
    "            assert negative_hidden_probs.shape == (K, m)\n",
    "        \n",
    "            # compute gradients\n",
    "            grads = self.computeGradients(positive_hidden_probs, X, negative_hidden_probs, negative_visible_probs)\n",
    "            \n",
    "            # update parameters\n",
    "            parameters = self.updateParameters(parameters, grads, alpha)\n",
    "            \n",
    "            # compute cost, free energy and pseudo-likelihood\n",
    "            free_energy, pseudo_likelihood = self.computeCost(X, parameters)\n",
    "            costs.append((free_energy, pseudo_likelihood))\n",
    "            \n",
    "            \n",
    "        self.parameters = parameters\n",
    "        self.costs = pd.DataFrame(costs, columns=['free_energy', 'pseudo_likelihood'])\n",
    "        self.fitted = True\n",
    "        \n",
    "    def computeGradients(self, H, V, H_tild, V_tild):\n",
    "        positive_associations = np.dot(H, V.T)\n",
    "        negative_associations = np.dot(H_tild, V_tild.T)\n",
    "        dW = positive_associations - negative_associations\n",
    "        db = np.sum(H - H_tild, axis=1, keepdims=True)\n",
    "        dc = np.sum(V - V_tild, axis=1, keepdims=True)\n",
    "        grads = {'dW': dW, 'db': db, 'dc': dc}\n",
    "        return grads\n",
    "    \n",
    "    def updateParameters(self, parameters, grads, alpha):\n",
    "        W = parameters['W'] + alpha * grads['dW']\n",
    "        b = parameters['b'] + alpha * grads['db']\n",
    "        c = parameters['c'] + alpha * grads['dc']\n",
    "        \n",
    "        parameters = {'W': W, 'b': b, 'c': c}\n",
    "        return parameters\n",
    "    \n",
    "    def computeCost(self, X, parameters):\n",
    "        W = parameters['W']\n",
    "        b = parameters['b']\n",
    "        c = parameters['c']\n",
    "        free_energy = self.computeFreeEnergy(X, W, b, c)\n",
    "        pseudo_likelihood = self.computePseudoLikelihood(X, W, b, c)\n",
    "        return free_energy, pseudo_likelihood\n",
    "    \n",
    "    def computeFreeEnergy(self, X, W, b, c):\n",
    "        F = np.dot(c.T, X)\n",
    "        F += np.sum(np.log(np.exp(b + np.dot(W, X))), axis=0, keepdims=True)\n",
    "        F = -np.squeeze(np.sum(F))\n",
    "        return F  \n",
    "    \n",
    "    def computePseudoLikelihood(self, X, W, b, c):\n",
    "        return None\n",
    "    \n",
    "    # getter functions\n",
    "    def getWeight(self):\n",
    "        return self.parameters['W'].copy()\n",
    "    \n",
    "    def getHiddenBias(self):\n",
    "        return self.parameters['b'].copy()\n",
    "    \n",
    "    def getVisibleBias(self):\n",
    "        return self.parameters['c'].copy()\n",
    "    \n",
    "    def getCost(self):\n",
    "        return self.costs.copy()\n",
    "            "
   ]
  },
  {
   "cell_type": "code",
   "execution_count": 198,
   "metadata": {},
   "outputs": [],
   "source": [
    "rbm = RBM(num_hidden=2)\n",
    "training_data = np.array([[1,1,1,0,0,0],\n",
    "                          [1,0,1,0,0,0],\n",
    "                          [1,1,1,0,0,0],\n",
    "                          [0,0,1,1,1,0], \n",
    "                          [0,0,1,1,0,0],\n",
    "                          [0,0,1,1,1,0]])\n",
    "rbm.fit(training_data.T, learning_rate=0.1, n_iters=1000)"
   ]
  },
  {
   "cell_type": "code",
   "execution_count": 220,
   "metadata": {},
   "outputs": [
    {
     "name": "stdout",
     "output_type": "stream",
     "text": [
      "Weight:\n",
      "[[ 3.92195392  1.75452282  2.56077734 -3.34011299 -3.91517641 -1.85121968]\n",
      " [-2.74379503 -4.01260886  2.28306594  2.94824933  1.30356795 -1.84925676]]\n",
      "\n",
      "Hidden layer bias:\n",
      "[ 0.77796201  0.47481822]\n",
      "\n",
      "Visible layer bias\n",
      "[-0.11736454 -0.58979065  2.86193605 -0.17312139 -0.6204102  -2.96030642]\n"
     ]
    }
   ],
   "source": [
    "print('Weight:')\n",
    "print(rbm.getWeight())\n",
    "print('\\nHidden layer bias:')\n",
    "print(rbm.getHiddenBias().ravel())\n",
    "print('\\nVisible layer bias')\n",
    "print(rbm.getVisibleBias().ravel())"
   ]
  },
  {
   "cell_type": "code",
   "execution_count": 201,
   "metadata": {},
   "outputs": [
    {
     "data": {
      "text/plain": [
       "BernoulliRBM(batch_size=6, learning_rate=0.1, n_components=2, n_iter=1000,\n",
       "       random_state=None, verbose=0)"
      ]
     },
     "execution_count": 201,
     "metadata": {},
     "output_type": "execute_result"
    }
   ],
   "source": [
    "sk_rbm = BernoulliRBM(n_components=2, learning_rate=0.1, batch_size=training_data.shape[0], n_iter=1000)\n",
    "sk_rbm.fit(training_data)"
   ]
  },
  {
   "cell_type": "code",
   "execution_count": 213,
   "metadata": {},
   "outputs": [
    {
     "name": "stdout",
     "output_type": "stream",
     "text": [
      "scikit-learn result:\n",
      "\n",
      "Weight:\n",
      "[[ 0.00273349 -0.01816993  1.97808832  0.0105905   0.05174911 -1.58588198]\n",
      " [-0.00788665 -0.02980285  2.00393623  0.02539344  0.06107948 -1.6046757 ]]\n",
      "\n",
      "Hidden layer bias:\n",
      "[ 0.69386835  0.70504212]\n",
      "\n",
      "Visible layer bias\n",
      "[-0.16666667 -0.58333333  2.36666667 -0.23333333 -0.5        -2.73333333]\n"
     ]
    }
   ],
   "source": [
    "print('scikit-learn result:\\n')\n",
    "print('Weight:')\n",
    "print(sk_rbm.components_)\n",
    "print('\\nHidden layer bias:')\n",
    "print(sk_rbm.intercept_hidden_) \n",
    "print('\\nVisible layer bias')\n",
    "print(sk_rbm.intercept_visible_)"
   ]
  },
  {
   "cell_type": "code",
   "execution_count": 214,
   "metadata": {},
   "outputs": [
    {
     "name": "stdout",
     "output_type": "stream",
     "text": [
      "free energy: -43.079\n",
      "scikit-learn free energy: -44.116\n"
     ]
    }
   ],
   "source": [
    "free_energy = rbm.computeFreeEnergy(training_data.T, rbm.getWeight(), rbm.getHiddenBias(), rbm.getVisibleBias())\n",
    "sk_free_energy = np.sum(sk_rbm._free_energy(training_data))\n",
    "print('free energy: {0:.3f}'.format(free_energy))\n",
    "print('scikit-learn free energy: {0:.3f}'.format(sk_free_energy))"
   ]
  },
  {
   "cell_type": "code",
   "execution_count": 215,
   "metadata": {},
   "outputs": [],
   "source": [
    "costs = rbm.getCost()['free_energy']"
   ]
  },
  {
   "cell_type": "code",
   "execution_count": 227,
   "metadata": {},
   "outputs": [
    {
     "data": {
      "text/plain": [
       "<matplotlib.text.Text at 0x114a19dd8>"
      ]
     },
     "execution_count": 227,
     "metadata": {},
     "output_type": "execute_result"
    },
    {
     "data": {
      "image/png": "[encoded data removed]",
      "text/plain": [
       "<matplotlib.figure.Figure at 0x114877198>"
      ]
     },
     "metadata": {},
     "output_type": "display_data"
    }
   ],
   "source": [
    "FONTSIZE = 23\n",
    "fig, ax = plt.subplots(1, figsize=(10, 7))\n",
    "ax.plot(costs, lw=1.5)  #, markersize=5)\n",
    "ax.set_xlabel('iteration', fontsize=FONTSIZE, labelpad=15)\n",
    "ax.set_ylabel('Free energy F(x)', fontsize=FONTSIZE, labelpad=15)\n",
    "for tick in ax.xaxis.get_major_ticks():\n",
    "    tick.label.set_fontsize(FONTSIZE)\n",
    "    tick.label.set_rotation(0)\n",
    "for tick in ax.yaxis.get_major_ticks():\n",
    "    tick.label.set_fontsize(FONTSIZE)\n",
    "    tick.label.set_rotation(0)\n",
    "ax.set_title('RBM Free energy during the training phase', fontsize=FONTSIZE)"
   ]
  },
  {
   "cell_type": "code",
   "execution_count": null,
   "metadata": {
    "collapsed": true
   },
   "outputs": [],
   "source": []
  }
 ],
 "metadata": {
  "kernelspec": {
   "display_name": "Python 3",
   "language": "python",
   "name": "python3"
  },
  "language_info": {
   "codemirror_mode": {
    "name": "ipython",
    "version": 3
   },
   "file_extension": ".py",
   "mimetype": "text/x-python",
   "name": "python",
   "nbconvert_exporter": "python",
   "pygments_lexer": "ipython3",
   "version": "3.6.1"
  }
 },
 "nbformat": 4,
 "nbformat_minor": 2
}
