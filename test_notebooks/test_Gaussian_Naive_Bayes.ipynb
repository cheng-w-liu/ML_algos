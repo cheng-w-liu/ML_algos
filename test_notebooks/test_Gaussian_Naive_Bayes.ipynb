{
 "cells": [
  {
   "cell_type": "code",
   "execution_count": 23,
   "metadata": {
    "collapsed": true
   },
   "outputs": [],
   "source": [
    "import numpy as np\n",
    "from sklearn import datasets\n",
    "from sklearn.naive_bayes import GaussianNB"
   ]
  },
  {
   "cell_type": "code",
   "execution_count": 2,
   "metadata": {
    "collapsed": true
   },
   "outputs": [],
   "source": [
    "from importlib import reload"
   ]
  },
  {
   "cell_type": "code",
   "execution_count": 10,
   "metadata": {
    "collapsed": true
   },
   "outputs": [],
   "source": [
    "import naive_bayes\n",
    "reload(naive_bayes)\n",
    "from naive_bayes import GaussianNaiveBayes"
   ]
  },
  {
   "cell_type": "code",
   "execution_count": 4,
   "metadata": {
    "collapsed": true
   },
   "outputs": [],
   "source": [
    "iris = datasets.load_iris()\n",
    "X = iris.data\n",
    "y = iris.target"
   ]
  },
  {
   "cell_type": "code",
   "execution_count": 6,
   "metadata": {},
   "outputs": [
    {
     "data": {
      "text/plain": [
       "((150, 4), (150,))"
      ]
     },
     "execution_count": 6,
     "metadata": {},
     "output_type": "execute_result"
    }
   ],
   "source": [
    "X.shape, y.shape"
   ]
  },
  {
   "cell_type": "markdown",
   "metadata": {},
   "source": [
    "### Check personal package"
   ]
  },
  {
   "cell_type": "code",
   "execution_count": 17,
   "metadata": {},
   "outputs": [],
   "source": [
    "my_model = GaussianNaiveBayes()\n",
    "my_model.fit(X, y)\n",
    "my_predict_probs = my_model.predict_proba(X)\n",
    "my_predict = my_model.predict(X)"
   ]
  },
  {
   "cell_type": "code",
   "execution_count": 12,
   "metadata": {},
   "outputs": [
    {
     "data": {
      "text/plain": [
       "array([[ 5.006,  3.418,  1.464,  0.244],\n",
       "       [ 5.936,  2.77 ,  4.26 ,  1.326],\n",
       "       [ 6.588,  2.974,  5.552,  2.026]])"
      ]
     },
     "execution_count": 12,
     "metadata": {},
     "output_type": "execute_result"
    }
   ],
   "source": [
    "my_model.Mu_"
   ]
  },
  {
   "cell_type": "code",
   "execution_count": 13,
   "metadata": {},
   "outputs": [
    {
     "data": {
      "text/plain": [
       "array([[ 0.121764,  0.142276,  0.029504,  0.011264],\n",
       "       [ 0.261104,  0.0965  ,  0.2164  ,  0.038324],\n",
       "       [ 0.396256,  0.101924,  0.298496,  0.073924]])"
      ]
     },
     "execution_count": 13,
     "metadata": {},
     "output_type": "execute_result"
    }
   ],
   "source": [
    "my_model.Sigma_"
   ]
  },
  {
   "cell_type": "code",
   "execution_count": 28,
   "metadata": {
    "collapsed": true
   },
   "outputs": [],
   "source": [
    "np.random.seed(1)\n",
    "idx = np.random.choice(np.arange(len(X)), size=10)"
   ]
  },
  {
   "cell_type": "code",
   "execution_count": 29,
   "metadata": {},
   "outputs": [
    {
     "data": {
      "text/plain": [
       "array([[  1.00000000e+000,   3.20343686e-018,   1.12989380e-025],\n",
       "       [  5.79617468e-220,   5.01445954e-009,   9.99999995e-001],\n",
       "       [  1.06618094e-120,   9.27077058e-001,   7.29229423e-002],\n",
       "       [  1.30860648e-169,   1.90227549e-003,   9.98097725e-001],\n",
       "       [  2.19789265e-130,   7.12645155e-001,   2.87354845e-001],\n",
       "       [  4.63166801e-042,   9.99998762e-001,   1.23794175e-006],\n",
       "       [  4.84173585e-234,   1.64602450e-010,   1.00000000e+000],\n",
       "       [  1.61328551e-181,   7.01805631e-004,   9.99298194e-001],\n",
       "       [  2.12412637e-071,   9.99807026e-001,   1.92973805e-004],\n",
       "       [  3.68931836e-153,   4.86199307e-001,   5.13800693e-001]])"
      ]
     },
     "execution_count": 29,
     "metadata": {},
     "output_type": "execute_result"
    }
   ],
   "source": [
    "my_predict_probs[idx,:]"
   ]
  },
  {
   "cell_type": "code",
   "execution_count": 30,
   "metadata": {},
   "outputs": [
    {
     "data": {
      "text/plain": [
       "array([0, 2, 1, 2, 1, 1, 2, 2, 1, 2])"
      ]
     },
     "execution_count": 30,
     "metadata": {},
     "output_type": "execute_result"
    }
   ],
   "source": [
    "my_predict[idx]"
   ]
  },
  {
   "cell_type": "markdown",
   "metadata": {},
   "source": [
    "### Check scikit-learn GaussianNB"
   ]
  },
  {
   "cell_type": "code",
   "execution_count": 18,
   "metadata": {},
   "outputs": [],
   "source": [
    "sk_model = GaussianNB()\n",
    "sk_model.fit(X, y)\n",
    "sk_predict_probs = sk_model.predict_proba(X)\n",
    "sk_predict = sk_model.predict(X)"
   ]
  },
  {
   "cell_type": "code",
   "execution_count": 15,
   "metadata": {},
   "outputs": [
    {
     "data": {
      "text/plain": [
       "array([[ 5.006,  3.418,  1.464,  0.244],\n",
       "       [ 5.936,  2.77 ,  4.26 ,  1.326],\n",
       "       [ 6.588,  2.974,  5.552,  2.026]])"
      ]
     },
     "execution_count": 15,
     "metadata": {},
     "output_type": "execute_result"
    }
   ],
   "source": [
    "sk_model.theta_"
   ]
  },
  {
   "cell_type": "code",
   "execution_count": 16,
   "metadata": {},
   "outputs": [
    {
     "data": {
      "text/plain": [
       "array([[ 0.121764,  0.142276,  0.029504,  0.011264],\n",
       "       [ 0.261104,  0.0965  ,  0.2164  ,  0.038324],\n",
       "       [ 0.396256,  0.101924,  0.298496,  0.073924]])"
      ]
     },
     "execution_count": 16,
     "metadata": {},
     "output_type": "execute_result"
    }
   ],
   "source": [
    "sk_model.sigma_"
   ]
  },
  {
   "cell_type": "code",
   "execution_count": 25,
   "metadata": {},
   "outputs": [],
   "source": [
    "np.random.seed(1)\n",
    "idx = np.random.choice(np.arange(len(X)), size=10)"
   ]
  },
  {
   "cell_type": "code",
   "execution_count": 26,
   "metadata": {},
   "outputs": [
    {
     "data": {
      "text/plain": [
       "array([[  1.00000000e+000,   3.20344249e-018,   1.12989524e-025],\n",
       "       [  5.79667973e-220,   5.01446575e-009,   9.99999995e-001],\n",
       "       [  1.06622383e-120,   9.27077052e-001,   7.29229479e-002],\n",
       "       [  1.30868299e-169,   1.90227600e-003,   9.98097724e-001],\n",
       "       [  2.19798649e-130,   7.12645144e-001,   2.87354856e-001],\n",
       "       [  4.63173354e-042,   9.99998762e-001,   1.23794211e-006],\n",
       "       [  4.84219075e-234,   1.64602693e-010,   1.00000000e+000],\n",
       "       [  1.61337601e-181,   7.01805717e-004,   9.99298194e-001],\n",
       "       [  2.12417952e-071,   9.99807026e-001,   1.92973847e-004],\n",
       "       [  3.68949024e-153,   4.86199285e-001,   5.13800715e-001]])"
      ]
     },
     "execution_count": 26,
     "metadata": {},
     "output_type": "execute_result"
    }
   ],
   "source": [
    "sk_predict_probs[idx, :]"
   ]
  },
  {
   "cell_type": "code",
   "execution_count": 27,
   "metadata": {},
   "outputs": [
    {
     "data": {
      "text/plain": [
       "array([0, 2, 1, 2, 1, 1, 2, 2, 1, 2])"
      ]
     },
     "execution_count": 27,
     "metadata": {},
     "output_type": "execute_result"
    }
   ],
   "source": [
    "sk_predict[idx]"
   ]
  },
  {
   "cell_type": "code",
   "execution_count": null,
   "metadata": {
    "collapsed": true
   },
   "outputs": [],
   "source": []
  }
 ],
 "metadata": {
  "kernelspec": {
   "display_name": "Python 3",
   "language": "python",
   "name": "python3"
  },
  "language_info": {
   "codemirror_mode": {
    "name": "ipython",
    "version": 3
   },
   "file_extension": ".py",
   "mimetype": "text/x-python",
   "name": "python",
   "nbconvert_exporter": "python",
   "pygments_lexer": "ipython3",
   "version": "3.6.3"
  }
 },
 "nbformat": 4,
 "nbformat_minor": 2
}
