{
 "cells": [
  {
   "cell_type": "code",
   "execution_count": 1,
   "metadata": {
    "collapsed": false
   },
   "outputs": [],
   "source": [
    "import numpy as np\n",
    "from matrix_factorization_in_TensorFlow import MatrixFactorizationTF\n",
    "\n",
    "import matplotlib.pyplot as plt\n",
    "import matplotlib\n",
    "%matplotlib inline\n",
    "matplotlib.style.use('ggplot')"
   ]
  },
  {
   "cell_type": "code",
   "execution_count": 2,
   "metadata": {
    "collapsed": true
   },
   "outputs": [],
   "source": [
    "NAN = 0   # np.nan\n",
    "Y = np.array([\n",
    "    [  5,    3, NAN, 1],\n",
    "    [  4,  NAN, NAN, 1],\n",
    "    [  1,    1, NAN, 5],\n",
    "    [  1,  NAN, NAN, 4],\n",
    "    [NAN,    1,   5, 4],\n",
    "])"
   ]
  },
  {
   "cell_type": "code",
   "execution_count": 3,
   "metadata": {
    "collapsed": false
   },
   "outputs": [],
   "source": [
    "mf = MatrixFactorizationTF(K=2) \n",
    "costs = mf.fit(Y, alpha=0.002, beta=1.0, num_iters=1000)"
   ]
  },
  {
   "cell_type": "code",
   "execution_count": 4,
   "metadata": {
    "collapsed": false
   },
   "outputs": [
    {
     "data": {
      "text/plain": [
       "{'P': array([[ 1.46691493, -0.47638846],\n",
       "        [ 2.26467248,  1.91503689],\n",
       "        [-1.18978307,  0.19582525],\n",
       "        [-0.75701979,  0.55635291],\n",
       "        [-1.30627408,  0.21088094]]), 'Q': array([[ 1.44135496, -0.53041587],\n",
       "        [ 1.14717743,  1.83797333],\n",
       "        [-1.87319558,  0.48745493],\n",
       "        [-1.14116421,  0.78982435]]), 'b': 0.8399608681349624, 'd': array([[ 0.73314149,  0.4286054 ,  0.79527733,  1.03925257]]), 'u': array([[ 0.92978043],\n",
       "        [ 0.1836912 ],\n",
       "        [ 0.97833329],\n",
       "        [ 0.84742721],\n",
       "        [ 0.73720968]])}"
      ]
     },
     "execution_count": 4,
     "metadata": {},
     "output_type": "execute_result"
    }
   ],
   "source": [
    "mf.parameters"
   ]
  },
  {
   "cell_type": "code",
   "execution_count": 5,
   "metadata": {
    "collapsed": false
   },
   "outputs": [
    {
     "data": {
      "text/plain": [
       "array([[ 4.8699119 ,  3.00556911, -0.41501783,  0.75873984],\n",
       "       [ 4.00522451,  7.57002535, -1.48975091,  0.9910842 ],\n",
       "       [ 0.73266709,  1.24192887,  4.93772386,  4.36995215],\n",
       "       [ 1.03429693,  2.27011928,  4.17190849,  4.02994561],\n",
       "       [ 0.31565281,  0.89484135,  4.92214966,  4.27365525]])"
      ]
     },
     "execution_count": 5,
     "metadata": {},
     "output_type": "execute_result"
    }
   ],
   "source": [
    "mf.predict_ratings()"
   ]
  },
  {
   "cell_type": "code",
   "execution_count": 6,
   "metadata": {
    "collapsed": false
   },
   "outputs": [
    {
     "data": {
      "image/png": "[encoded data removed]",
      "text/plain": [
       "<matplotlib.figure.Figure at 0x11a08bb38>"
      ]
     },
     "metadata": {},
     "output_type": "display_data"
    }
   ],
   "source": [
    "plt.close('close')\n",
    "fig, ax = plt.subplots(1, figsize=(9, 5.5))\n",
    "ax.plot(costs)\n",
    "\n",
    "FONTSIZE = 22\n",
    "ax.set_xlabel('iteration', fontsize=FONTSIZE, labelpad=15)\n",
    "ax.set_ylabel('Cost function', fontsize=FONTSIZE, labelpad=15)\n",
    "for tick in ax.xaxis.get_major_ticks():\n",
    "    tick.label.set_fontsize(FONTSIZE)\n",
    "    tick.label.set_rotation(0)\n",
    "for tick in ax.yaxis.get_major_ticks():\n",
    "    tick.label.set_fontsize(FONTSIZE)\n",
    "    tick.label.set_rotation(0)"
   ]
  },
  {
   "cell_type": "markdown",
   "metadata": {
    "collapsed": true
   },
   "source": [
    "The graph below shows the visualization of the nodes from TensorFlow tensorboard\n",
    "![tensorbloard visualization](./matrix_factorization_tensorflow_graph.png)"
   ]
  },
  {
   "cell_type": "code",
   "execution_count": null,
   "metadata": {
    "collapsed": true
   },
   "outputs": [],
   "source": []
  }
 ],
 "metadata": {
  "kernelspec": {
   "display_name": "Python 3",
   "language": "python",
   "name": "python3"
  },
  "language_info": {
   "codemirror_mode": {
    "name": "ipython",
    "version": 3
   },
   "file_extension": ".py",
   "mimetype": "text/x-python",
   "name": "python",
   "nbconvert_exporter": "python",
   "pygments_lexer": "ipython3",
   "version": "3.6.3"
  }
 },
 "nbformat": 4,
 "nbformat_minor": 0
}
